{
 "cells": [
  {
   "cell_type": "markdown",
   "id": "1a5e4ece",
   "metadata": {},
   "source": [
    "# Predicting Nurse Stress Levels Using Wearable Sensor Data"
   ]
  },
  {
   "cell_type": "markdown",
   "id": "bebf274b",
   "metadata": {},
   "source": [
    "#### 2200930_CE888_Assignment_02"
   ]
  },
  {
   "cell_type": "code",
   "execution_count": 124,
   "id": "27853541",
   "metadata": {},
   "outputs": [],
   "source": [
    "import numpy as np\n",
    "import matplotlib.pyplot as plt\n",
    "import pandas as pd\n",
    "import seaborn as sns\n",
    "import seaborn as sb\n",
    "import glob \n",
    "import os\n",
    "from sklearn.impute import SimpleImputer\n",
    "from sklearn.ensemble import RandomForestClassifier\n",
    "from sklearn.metrics import accuracy_score\n",
    "from sklearn.neighbors import KNeighborsClassifier\n",
    "from sklearn.linear_model import LogisticRegression\n",
    "from sklearn.naive_bayes import GaussianNB\n",
    "from sklearn.preprocessing import MinMaxScaler"
   ]
  },
  {
   "cell_type": "markdown",
   "id": "388a3d1c",
   "metadata": {},
   "source": [
    " 4 scripts is shared by Professor and author of paper \n",
    "With the help of scripts I have unzip,merge,combined and labelled the data individually of 15 nurses "
   ]
  },
  {
   "cell_type": "markdown",
   "id": "dfbb3afa",
   "metadata": {},
   "source": [
    "## Importing 5 nurses labelled datasets "
   ]
  },
  {
   "cell_type": "markdown",
   "id": "0dfabe51",
   "metadata": {},
   "source": [
    "Importing (5C,6D,7A,7E,F5) nurses datasets to use train the model "
   ]
  },
  {
   "cell_type": "code",
   "execution_count": 125,
   "id": "3dbd18f9",
   "metadata": {},
   "outputs": [],
   "source": [
    "nurse_5C = pd.read_csv(\"C:/Users/Revati/OneDrive/Desktop/DSDM/Final_merged_file/merged_data_5C/label_5C_final.csv\")\n",
    "nurse_6D = pd.read_csv(\"C:/Users/Revati/OneDrive/Desktop/DSDM/Final_merged_file/merged_data_6D/label_6D_final.csv\")\n",
    "nurse_7A = pd.read_csv(\"C:/Users/Revati/OneDrive/Desktop/DSDM/Final_merged_file/merged_data_7A/label_7A_final.csv\")\n",
    "nurse_7E = pd.read_csv(\"C:/Users/Revati/OneDrive/Desktop/DSDM/Final_merged_file/merged_data_7E/label_7E_final.csv\")\n",
    "nurse_F5 = pd.read_csv(\"C:/Users/Revati/OneDrive/Desktop/DSDM/Final_merged_file/merged_data_F5/label_F5_final.csv\")\n",
    "\n",
    "nurse_train = pd.concat([nurse_5C, nurse_6D, nurse_7A, nurse_7E, nurse_F5,], axis=0, keys=['nurse_5C', 'nurse_6D', 'nurse_7A', 'nurse_7E', 'nurse_F5'])\n",
    "nurse_train = nurse_train.reset_index(drop=True)\n",
    "nurse_train.drop(columns = 'id',inplace = True)\n",
    "nurse_train.drop(columns = 'datetime',inplace = True)"
   ]
  },
  {
   "cell_type": "code",
   "execution_count": 126,
   "id": "7bb0dd0f",
   "metadata": {},
   "outputs": [
    {
     "name": "stdout",
     "output_type": "stream",
     "text": [
      "<class 'pandas.core.frame.DataFrame'>\n",
      "RangeIndex: 2939586 entries, 0 to 2939585\n",
      "Data columns (total 7 columns):\n",
      " #   Column  Dtype  \n",
      "---  ------  -----  \n",
      " 0   X       float64\n",
      " 1   Y       float64\n",
      " 2   Z       float64\n",
      " 3   EDA     float64\n",
      " 4   HR      float64\n",
      " 5   TEMP    float64\n",
      " 6   label   float64\n",
      "dtypes: float64(7)\n",
      "memory usage: 157.0 MB\n"
     ]
    }
   ],
   "source": [
    "nurse_train.info()"
   ]
  },
  {
   "cell_type": "code",
   "execution_count": 127,
   "id": "fec5fe86",
   "metadata": {},
   "outputs": [
    {
     "data": {
      "text/plain": [
       "(2939586, 7)"
      ]
     },
     "execution_count": 127,
     "metadata": {},
     "output_type": "execute_result"
    }
   ],
   "source": [
    "nurse_train.shape"
   ]
  },
  {
   "cell_type": "markdown",
   "id": "640ee6ab",
   "metadata": {},
   "source": [
    " - Checking null values "
   ]
  },
  {
   "cell_type": "code",
   "execution_count": 128,
   "id": "d36fd603",
   "metadata": {},
   "outputs": [
    {
     "data": {
      "text/plain": [
       "X        False\n",
       "Y        False\n",
       "Z        False\n",
       "EDA      False\n",
       "HR       False\n",
       "TEMP     False\n",
       "label    False\n",
       "dtype: bool"
      ]
     },
     "execution_count": 128,
     "metadata": {},
     "output_type": "execute_result"
    }
   ],
   "source": [
    "nurse_train.isnull().any()"
   ]
  },
  {
   "cell_type": "markdown",
   "id": "b9f0e630",
   "metadata": {},
   "source": [
    "- Train Data set "
   ]
  },
  {
   "cell_type": "code",
   "execution_count": 129,
   "id": "fbe8d0a3",
   "metadata": {},
   "outputs": [],
   "source": [
    "nurse_train_set = nurse_train.drop(columns = 'label')\n",
    "stress = nurse_train.label"
   ]
  },
  {
   "cell_type": "code",
   "execution_count": 130,
   "id": "3e64e2e7",
   "metadata": {},
   "outputs": [
    {
     "data": {
      "image/png": "[encoded data removed]",
      "text/plain": [
       "<Figure size 640x480 with 1 Axes>"
      ]
     },
     "metadata": {},
     "output_type": "display_data"
    }
   ],
   "source": [
    "sns.histplot(data=nurse_train, x='label', bins=[0,1,2], stat='density')\n",
    "plt.xticks([0, 2])\n",
    "plt.ylabel('Density')\n",
    "plt.show()"
   ]
  },
  {
   "cell_type": "markdown",
   "id": "8ea5dbb2",
   "metadata": {},
   "source": [
    "## Importing 2 nurses labelled datasets"
   ]
  },
  {
   "cell_type": "markdown",
   "id": "4da80c7a",
   "metadata": {},
   "source": [
    "- Importing (15,83) nurses datasets to use as test in the model"
   ]
  },
  {
   "cell_type": "code",
   "execution_count": 131,
   "id": "f8e02f02",
   "metadata": {},
   "outputs": [
    {
     "data": {
      "text/html": [
       "<div>\n",
       "<style scoped>\n",
       "    .dataframe tbody tr th:only-of-type {\n",
       "        vertical-align: middle;\n",
       "    }\n",
       "\n",
       "    .dataframe tbody tr th {\n",
       "        vertical-align: top;\n",
       "    }\n",
       "\n",
       "    .dataframe thead th {\n",
       "        text-align: right;\n",
       "    }\n",
       "</style>\n",
       "<table border=\"1\" class=\"dataframe\">\n",
       "  <thead>\n",
       "    <tr style=\"text-align: right;\">\n",
       "      <th></th>\n",
       "      <th>X</th>\n",
       "      <th>Y</th>\n",
       "      <th>Z</th>\n",
       "      <th>EDA</th>\n",
       "      <th>HR</th>\n",
       "      <th>TEMP</th>\n",
       "      <th>label</th>\n",
       "    </tr>\n",
       "  </thead>\n",
       "  <tbody>\n",
       "    <tr>\n",
       "      <th>0</th>\n",
       "      <td>-13.0</td>\n",
       "      <td>-61.0</td>\n",
       "      <td>5.0</td>\n",
       "      <td>6.769995</td>\n",
       "      <td>99.43</td>\n",
       "      <td>31.17</td>\n",
       "      <td>2.0</td>\n",
       "    </tr>\n",
       "    <tr>\n",
       "      <th>1</th>\n",
       "      <td>-20.0</td>\n",
       "      <td>-69.0</td>\n",
       "      <td>-3.0</td>\n",
       "      <td>6.769995</td>\n",
       "      <td>99.43</td>\n",
       "      <td>31.17</td>\n",
       "      <td>2.0</td>\n",
       "    </tr>\n",
       "    <tr>\n",
       "      <th>2</th>\n",
       "      <td>-31.0</td>\n",
       "      <td>-78.0</td>\n",
       "      <td>-15.0</td>\n",
       "      <td>6.769995</td>\n",
       "      <td>99.43</td>\n",
       "      <td>31.17</td>\n",
       "      <td>2.0</td>\n",
       "    </tr>\n",
       "    <tr>\n",
       "      <th>3</th>\n",
       "      <td>-47.0</td>\n",
       "      <td>-65.0</td>\n",
       "      <td>-38.0</td>\n",
       "      <td>6.769995</td>\n",
       "      <td>99.43</td>\n",
       "      <td>31.17</td>\n",
       "      <td>2.0</td>\n",
       "    </tr>\n",
       "    <tr>\n",
       "      <th>4</th>\n",
       "      <td>-67.0</td>\n",
       "      <td>-57.0</td>\n",
       "      <td>-53.0</td>\n",
       "      <td>6.769995</td>\n",
       "      <td>99.43</td>\n",
       "      <td>31.17</td>\n",
       "      <td>2.0</td>\n",
       "    </tr>\n",
       "    <tr>\n",
       "      <th>...</th>\n",
       "      <td>...</td>\n",
       "      <td>...</td>\n",
       "      <td>...</td>\n",
       "      <td>...</td>\n",
       "      <td>...</td>\n",
       "      <td>...</td>\n",
       "      <td>...</td>\n",
       "    </tr>\n",
       "    <tr>\n",
       "      <th>1681945</th>\n",
       "      <td>-67.0</td>\n",
       "      <td>6.0</td>\n",
       "      <td>4.0</td>\n",
       "      <td>2.843508</td>\n",
       "      <td>86.92</td>\n",
       "      <td>35.21</td>\n",
       "      <td>2.0</td>\n",
       "    </tr>\n",
       "    <tr>\n",
       "      <th>1681946</th>\n",
       "      <td>-65.0</td>\n",
       "      <td>5.0</td>\n",
       "      <td>3.0</td>\n",
       "      <td>2.843508</td>\n",
       "      <td>86.92</td>\n",
       "      <td>35.21</td>\n",
       "      <td>2.0</td>\n",
       "    </tr>\n",
       "    <tr>\n",
       "      <th>1681947</th>\n",
       "      <td>-62.0</td>\n",
       "      <td>7.0</td>\n",
       "      <td>2.0</td>\n",
       "      <td>2.843508</td>\n",
       "      <td>86.92</td>\n",
       "      <td>35.21</td>\n",
       "      <td>2.0</td>\n",
       "    </tr>\n",
       "    <tr>\n",
       "      <th>1681948</th>\n",
       "      <td>-64.0</td>\n",
       "      <td>7.0</td>\n",
       "      <td>4.0</td>\n",
       "      <td>2.843508</td>\n",
       "      <td>86.92</td>\n",
       "      <td>35.21</td>\n",
       "      <td>2.0</td>\n",
       "    </tr>\n",
       "    <tr>\n",
       "      <th>1681949</th>\n",
       "      <td>-65.0</td>\n",
       "      <td>7.0</td>\n",
       "      <td>3.0</td>\n",
       "      <td>2.864009</td>\n",
       "      <td>87.12</td>\n",
       "      <td>35.23</td>\n",
       "      <td>2.0</td>\n",
       "    </tr>\n",
       "  </tbody>\n",
       "</table>\n",
       "<p>1681950 rows × 7 columns</p>\n",
       "</div>"
      ],
      "text/plain": [
       "            X     Y     Z       EDA     HR   TEMP  label\n",
       "0       -13.0 -61.0   5.0  6.769995  99.43  31.17    2.0\n",
       "1       -20.0 -69.0  -3.0  6.769995  99.43  31.17    2.0\n",
       "2       -31.0 -78.0 -15.0  6.769995  99.43  31.17    2.0\n",
       "3       -47.0 -65.0 -38.0  6.769995  99.43  31.17    2.0\n",
       "4       -67.0 -57.0 -53.0  6.769995  99.43  31.17    2.0\n",
       "...       ...   ...   ...       ...    ...    ...    ...\n",
       "1681945 -67.0   6.0   4.0  2.843508  86.92  35.21    2.0\n",
       "1681946 -65.0   5.0   3.0  2.843508  86.92  35.21    2.0\n",
       "1681947 -62.0   7.0   2.0  2.843508  86.92  35.21    2.0\n",
       "1681948 -64.0   7.0   4.0  2.843508  86.92  35.21    2.0\n",
       "1681949 -65.0   7.0   3.0  2.864009  87.12  35.23    2.0\n",
       "\n",
       "[1681950 rows x 7 columns]"
      ]
     },
     "execution_count": 131,
     "metadata": {},
     "output_type": "execute_result"
    }
   ],
   "source": [
    "nurse_15 = pd.read_csv(\"C:/Users/Revati/OneDrive/Desktop/DSDM/Final_merged_file/merged_data_15/label_15_final.csv\")\n",
    "nurse_83 = pd.read_csv(\"C:/Users/Revati/OneDrive/Desktop/DSDM/Final_merged_file/merged_data_83/label_83_final.csv\")\n",
    "nurse_test = pd.concat([nurse_15, nurse_83], axis=0, keys=['nurse_15', 'nurse_83'])\n",
    "nurse_test = nurse_test.reset_index(drop=True)\n",
    "nurse_test.drop(columns = 'id',inplace = True)\n",
    "nurse_test.drop(columns = 'datetime',inplace = True)\n",
    "nurse_test"
   ]
  },
  {
   "cell_type": "markdown",
   "id": "16c1adb8",
   "metadata": {},
   "source": [
    "- Test Data "
   ]
  },
  {
   "cell_type": "code",
   "execution_count": 132,
   "id": "6baa27e9",
   "metadata": {},
   "outputs": [],
   "source": [
    "X_test = nurse_test.drop(columns = 'label')\n",
    "y_test = nurse_test.label"
   ]
  },
  {
   "cell_type": "markdown",
   "id": "9b102f27",
   "metadata": {},
   "source": [
    "### Model Implementing "
   ]
  },
  {
   "cell_type": "markdown",
   "id": "7c5f41e4",
   "metadata": {},
   "source": [
    "- RandomForestClassifier"
   ]
  },
  {
   "cell_type": "code",
   "execution_count": 133,
   "id": "f0d9468c",
   "metadata": {},
   "outputs": [
    {
     "name": "stdout",
     "output_type": "stream",
     "text": [
      "Accuracy: 86.65%\n"
     ]
    }
   ],
   "source": [
    "rfc = RandomForestClassifier(n_estimators=100, max_depth=15)\n",
    "model1 = rfc.fit(nurse_train_set,stress.values.ravel())\n",
    "pred1 = rfc.predict(X_test)\n",
    "accuracy_RFC = accuracy_score(y_test, pred1)\n",
    "print(\"Accuracy: {:.2f}%\".format(accuracy_RFC * 100))"
   ]
  },
  {
   "cell_type": "markdown",
   "id": "fba22a62",
   "metadata": {},
   "source": [
    " - KNeighborsClassifier"
   ]
  },
  {
   "cell_type": "code",
   "execution_count": 134,
   "id": "71aad5a6",
   "metadata": {},
   "outputs": [
    {
     "name": "stderr",
     "output_type": "stream",
     "text": [
      
     ]
    },
    {
     "name": "stdout",
     "output_type": "stream",
     "text": [
      "Accuracy: 84.51%\n"
     ]
    }
   ],
   "source": [
    "knn = KNeighborsClassifier(n_neighbors=5)\n",
    "model2 = knn.fit(nurse_train_set, stress)\n",
    "pred2 = knn.predict(X_test)\n",
    "accuracy_KNN = accuracy_score(y_test, pred2)\n",
    "print(\"Accuracy: {:.2f}%\".format(accuracy_KNN * 100))"
   ]
  },
  {
   "cell_type": "markdown",
   "id": "4c8188b4",
   "metadata": {},
   "source": [
    "- LogisticRegression"
   ]
  },
  {
   "cell_type": "code",
   "execution_count": 136,
   "id": "957df318",
   "metadata": {},
   "outputs": [
    {
     "name": "stdout",
     "output_type": "stream",
     "text": [
      "Accuracy: 89.49%\n"
     ]
    }
   ],
   "source": [
    "lr = LogisticRegression(solver='liblinear', random_state=0)\n",
    "model3 = lr.fit(nurse_train_set, stress)\n",
    "pred4 = lr.predict(X_test)\n",
    "accuracy_LR = accuracy_score(y_test, pred4)\n",
    "print(\"Accuracy: {:.2f}%\".format(accuracy_LR * 100))"
   ]
  },
  {
   "cell_type": "markdown",
   "id": "fae3b4c3",
   "metadata": {},
   "source": [
    "- GaussianNB"
   ]
  },
  {
   "cell_type": "code",
   "execution_count": 137,
   "id": "f578a1c7",
   "metadata": {},
   "outputs": [
    {
     "name": "stdout",
     "output_type": "stream",
     "text": [
      "Accuracy: 85.89%\n"
     ]
    }
   ],
   "source": [
    "gnb = GaussianNB()\n",
    "model4 = gnb.fit(nurse_train_set, stress)\n",
    "pred6 = gnb.predict(X_test)\n",
    "accuracy_GNB = accuracy_score(y_test, pred6)\n",
    "print(\"Accuracy: {:.2f}%\".format(accuracy_GNB * 100))"
   ]
  },
  {
   "cell_type": "markdown",
   "id": "deda688e",
   "metadata": {},
   "source": [
    "#### Checking the best model "
   ]
  },
  {
   "cell_type": "code",
   "execution_count": 139,
   "id": "0d4aa5f7",
   "metadata": {},
   "outputs": [
    {
     "name": "stdout",
     "output_type": "stream",
     "text": [
      "                            Score\n",
      "Model                            \n",
      "LogisticRegression      89.488808\n",
      "RandomForestClassifier  86.649128\n",
      "GaussianNB              85.886976\n",
      "KNN                     84.514284\n"
     ]
    }
   ],
   "source": [
    "results = pd.DataFrame({\n",
    "    'Model': ['RandomForestClassifier', 'KNN', 'LogisticRegression', 'GaussianNB'],\n",
    "    'Score': [accuracy_RFC*100, accuracy_KNN*100, accuracy_LR*100, accuracy_GNB*100]\n",
    "})\n",
    "\n",
    "result_df = results.sort_values(by='Score', ascending=False)\n",
    "result_df = result_df.set_index('Model')\n",
    "print(result_df)\n"
   ]
  },
  {
   "cell_type": "markdown",
   "id": "538a1876",
   "metadata": {},
   "source": [
    "### Scaling data"
   ]
  },
  {
   "cell_type": "code",
   "execution_count": 145,
   "id": "84b549a2",
   "metadata": {},
   "outputs": [
    {
     "name": "stdout",
     "output_type": "stream",
     "text": [
      "Accuracy: 89.49%\n"
     ]
    }
   ],
   "source": [
    "scaler = MinMaxScaler()\n",
    "nurse_train_set_scaled = scaler.fit_transform(nurse_train_set)\n",
    "X_test_scaled = scaler.transform(X_test)\n",
    "lr_hyper = LogisticRegression(solver='liblinear', random_state=0)\n",
    "lr_hyper.fit(nurse_train_set_scaled, stress)\n",
    "pred_hyper = lr_hyper.predict(X_test_scaled)\n",
    "accuracy_hyper = accuracy_score(y_test, pred_hyper)\n",
    "print(\"Accuracy: {:.2f}%\".format(accuracy_hyper*100))"
   ]
  },
  {
   "cell_type": "markdown",
   "id": "23ed437f",
   "metadata": {},
   "source": [
    "### Cross Validation "
   ]
  },
  {
   "cell_type": "markdown",
   "id": "0814f8ff",
   "metadata": {},
   "source": [
    "Performing cross validation on different Test data or nurse(E4) using first and last models (LogisticRegression,KNN)"
   ]
  },
  {
   "cell_type": "code",
   "execution_count": 146,
   "id": "1795c971",
   "metadata": {},
   "outputs": [
    {
     "data": {
      "text/html": [
       "<div>\n",
       "<style scoped>\n",
       "    .dataframe tbody tr th:only-of-type {\n",
       "        vertical-align: middle;\n",
       "    }\n",
       "\n",
       "    .dataframe tbody tr th {\n",
       "        vertical-align: top;\n",
       "    }\n",
       "\n",
       "    .dataframe thead th {\n",
       "        text-align: right;\n",
       "    }\n",
       "</style>\n",
       "<table border=\"1\" class=\"dataframe\">\n",
       "  <thead>\n",
       "    <tr style=\"text-align: right;\">\n",
       "      <th></th>\n",
       "      <th>X</th>\n",
       "      <th>Y</th>\n",
       "      <th>Z</th>\n",
       "      <th>EDA</th>\n",
       "      <th>HR</th>\n",
       "      <th>TEMP</th>\n",
       "      <th>id</th>\n",
       "      <th>datetime</th>\n",
       "      <th>label</th>\n",
       "    </tr>\n",
       "  </thead>\n",
       "  <tbody>\n",
       "    <tr>\n",
       "      <th>0</th>\n",
       "      <td>-10.0</td>\n",
       "      <td>59.0</td>\n",
       "      <td>13.0</td>\n",
       "      <td>4.184706</td>\n",
       "      <td>113.40</td>\n",
       "      <td>34.99</td>\n",
       "      <td>E4</td>\n",
       "      <td>2020-04-18 20:32:00.000000000</td>\n",
       "      <td>2.0</td>\n",
       "    </tr>\n",
       "    <tr>\n",
       "      <th>1</th>\n",
       "      <td>-12.0</td>\n",
       "      <td>61.0</td>\n",
       "      <td>12.0</td>\n",
       "      <td>4.184706</td>\n",
       "      <td>113.40</td>\n",
       "      <td>34.99</td>\n",
       "      <td>E4</td>\n",
       "      <td>2020-04-18 20:32:00.031249920</td>\n",
       "      <td>2.0</td>\n",
       "    </tr>\n",
       "    <tr>\n",
       "      <th>2</th>\n",
       "      <td>-11.0</td>\n",
       "      <td>62.0</td>\n",
       "      <td>13.0</td>\n",
       "      <td>4.184706</td>\n",
       "      <td>113.40</td>\n",
       "      <td>34.99</td>\n",
       "      <td>E4</td>\n",
       "      <td>2020-04-18 20:32:00.062500096</td>\n",
       "      <td>2.0</td>\n",
       "    </tr>\n",
       "    <tr>\n",
       "      <th>3</th>\n",
       "      <td>-14.0</td>\n",
       "      <td>62.0</td>\n",
       "      <td>13.0</td>\n",
       "      <td>4.184706</td>\n",
       "      <td>113.40</td>\n",
       "      <td>34.99</td>\n",
       "      <td>E4</td>\n",
       "      <td>2020-04-18 20:32:00.093750016</td>\n",
       "      <td>2.0</td>\n",
       "    </tr>\n",
       "    <tr>\n",
       "      <th>4</th>\n",
       "      <td>-16.0</td>\n",
       "      <td>61.0</td>\n",
       "      <td>13.0</td>\n",
       "      <td>4.184706</td>\n",
       "      <td>113.40</td>\n",
       "      <td>34.99</td>\n",
       "      <td>E4</td>\n",
       "      <td>2020-04-18 20:32:00.124999936</td>\n",
       "      <td>2.0</td>\n",
       "    </tr>\n",
       "    <tr>\n",
       "      <th>...</th>\n",
       "      <td>...</td>\n",
       "      <td>...</td>\n",
       "      <td>...</td>\n",
       "      <td>...</td>\n",
       "      <td>...</td>\n",
       "      <td>...</td>\n",
       "      <td>...</td>\n",
       "      <td>...</td>\n",
       "      <td>...</td>\n",
       "    </tr>\n",
       "    <tr>\n",
       "      <th>1472505</th>\n",
       "      <td>-40.0</td>\n",
       "      <td>43.0</td>\n",
       "      <td>16.0</td>\n",
       "      <td>1.026040</td>\n",
       "      <td>80.08</td>\n",
       "      <td>31.27</td>\n",
       "      <td>E4</td>\n",
       "      <td>2020-07-06 19:05:59.875000064</td>\n",
       "      <td>2.0</td>\n",
       "    </tr>\n",
       "    <tr>\n",
       "      <th>1472506</th>\n",
       "      <td>-38.0</td>\n",
       "      <td>44.0</td>\n",
       "      <td>16.0</td>\n",
       "      <td>1.026040</td>\n",
       "      <td>80.08</td>\n",
       "      <td>31.27</td>\n",
       "      <td>E4</td>\n",
       "      <td>2020-07-06 19:05:59.906249984</td>\n",
       "      <td>2.0</td>\n",
       "    </tr>\n",
       "    <tr>\n",
       "      <th>1472507</th>\n",
       "      <td>-38.0</td>\n",
       "      <td>45.0</td>\n",
       "      <td>12.0</td>\n",
       "      <td>1.026040</td>\n",
       "      <td>80.08</td>\n",
       "      <td>31.27</td>\n",
       "      <td>E4</td>\n",
       "      <td>2020-07-06 19:05:59.937499904</td>\n",
       "      <td>2.0</td>\n",
       "    </tr>\n",
       "    <tr>\n",
       "      <th>1472508</th>\n",
       "      <td>-41.0</td>\n",
       "      <td>47.0</td>\n",
       "      <td>11.0</td>\n",
       "      <td>1.026040</td>\n",
       "      <td>80.08</td>\n",
       "      <td>31.27</td>\n",
       "      <td>E4</td>\n",
       "      <td>2020-07-06 19:05:59.968750080</td>\n",
       "      <td>2.0</td>\n",
       "    </tr>\n",
       "    <tr>\n",
       "      <th>1472509</th>\n",
       "      <td>-42.0</td>\n",
       "      <td>50.0</td>\n",
       "      <td>12.0</td>\n",
       "      <td>1.035003</td>\n",
       "      <td>80.17</td>\n",
       "      <td>31.25</td>\n",
       "      <td>E4</td>\n",
       "      <td>2020-07-06 19:06:00.000000000</td>\n",
       "      <td>2.0</td>\n",
       "    </tr>\n",
       "  </tbody>\n",
       "</table>\n",
       "<p>1472510 rows × 9 columns</p>\n",
       "</div>"
      ],
      "text/plain": [
       "            X     Y     Z       EDA      HR   TEMP  id  \\\n",
       "0       -10.0  59.0  13.0  4.184706  113.40  34.99  E4   \n",
       "1       -12.0  61.0  12.0  4.184706  113.40  34.99  E4   \n",
       "2       -11.0  62.0  13.0  4.184706  113.40  34.99  E4   \n",
       "3       -14.0  62.0  13.0  4.184706  113.40  34.99  E4   \n",
       "4       -16.0  61.0  13.0  4.184706  113.40  34.99  E4   \n",
       "...       ...   ...   ...       ...     ...    ...  ..   \n",
       "1472505 -40.0  43.0  16.0  1.026040   80.08  31.27  E4   \n",
       "1472506 -38.0  44.0  16.0  1.026040   80.08  31.27  E4   \n",
       "1472507 -38.0  45.0  12.0  1.026040   80.08  31.27  E4   \n",
       "1472508 -41.0  47.0  11.0  1.026040   80.08  31.27  E4   \n",
       "1472509 -42.0  50.0  12.0  1.035003   80.17  31.25  E4   \n",
       "\n",
       "                              datetime  label  \n",
       "0        2020-04-18 20:32:00.000000000    2.0  \n",
       "1        2020-04-18 20:32:00.031249920    2.0  \n",
       "2        2020-04-18 20:32:00.062500096    2.0  \n",
       "3        2020-04-18 20:32:00.093750016    2.0  \n",
       "4        2020-04-18 20:32:00.124999936    2.0  \n",
       "...                                ...    ...  \n",
       "1472505  2020-07-06 19:05:59.875000064    2.0  \n",
       "1472506  2020-07-06 19:05:59.906249984    2.0  \n",
       "1472507  2020-07-06 19:05:59.937499904    2.0  \n",
       "1472508  2020-07-06 19:05:59.968750080    2.0  \n",
       "1472509  2020-07-06 19:06:00.000000000    2.0  \n",
       "\n",
       "[1472510 rows x 9 columns]"
      ]
     },
     "execution_count": 146,
     "metadata": {},
     "output_type": "execute_result"
    }
   ],
   "source": [
    "nurse_E4 = pd.read_csv(\"C:/Users/Revati/OneDrive/Desktop/DSDM/Final_merged_file/merged_data_E4/label_E4_final.csv\")\n",
    "nurse_E4"
   ]
  },
  {
   "cell_type": "code",
   "execution_count": 147,
   "id": "923b05e6",
   "metadata": {},
   "outputs": [
    {
     "data": {
      "text/html": [
       "<div>\n",
       "<style scoped>\n",
       "    .dataframe tbody tr th:only-of-type {\n",
       "        vertical-align: middle;\n",
       "    }\n",
       "\n",
       "    .dataframe tbody tr th {\n",
       "        vertical-align: top;\n",
       "    }\n",
       "\n",
       "    .dataframe thead th {\n",
       "        text-align: right;\n",
       "    }\n",
       "</style>\n",
       "<table border=\"1\" class=\"dataframe\">\n",
       "  <thead>\n",
       "    <tr style=\"text-align: right;\">\n",
       "      <th></th>\n",
       "      <th>X</th>\n",
       "      <th>Y</th>\n",
       "      <th>Z</th>\n",
       "      <th>EDA</th>\n",
       "      <th>HR</th>\n",
       "      <th>TEMP</th>\n",
       "      <th>label</th>\n",
       "    </tr>\n",
       "  </thead>\n",
       "  <tbody>\n",
       "    <tr>\n",
       "      <th>0</th>\n",
       "      <td>-10.0</td>\n",
       "      <td>59.0</td>\n",
       "      <td>13.0</td>\n",
       "      <td>4.184706</td>\n",
       "      <td>113.40</td>\n",
       "      <td>34.99</td>\n",
       "      <td>2.0</td>\n",
       "    </tr>\n",
       "    <tr>\n",
       "      <th>1</th>\n",
       "      <td>-12.0</td>\n",
       "      <td>61.0</td>\n",
       "      <td>12.0</td>\n",
       "      <td>4.184706</td>\n",
       "      <td>113.40</td>\n",
       "      <td>34.99</td>\n",
       "      <td>2.0</td>\n",
       "    </tr>\n",
       "    <tr>\n",
       "      <th>2</th>\n",
       "      <td>-11.0</td>\n",
       "      <td>62.0</td>\n",
       "      <td>13.0</td>\n",
       "      <td>4.184706</td>\n",
       "      <td>113.40</td>\n",
       "      <td>34.99</td>\n",
       "      <td>2.0</td>\n",
       "    </tr>\n",
       "    <tr>\n",
       "      <th>3</th>\n",
       "      <td>-14.0</td>\n",
       "      <td>62.0</td>\n",
       "      <td>13.0</td>\n",
       "      <td>4.184706</td>\n",
       "      <td>113.40</td>\n",
       "      <td>34.99</td>\n",
       "      <td>2.0</td>\n",
       "    </tr>\n",
       "    <tr>\n",
       "      <th>4</th>\n",
       "      <td>-16.0</td>\n",
       "      <td>61.0</td>\n",
       "      <td>13.0</td>\n",
       "      <td>4.184706</td>\n",
       "      <td>113.40</td>\n",
       "      <td>34.99</td>\n",
       "      <td>2.0</td>\n",
       "    </tr>\n",
       "    <tr>\n",
       "      <th>...</th>\n",
       "      <td>...</td>\n",
       "      <td>...</td>\n",
       "      <td>...</td>\n",
       "      <td>...</td>\n",
       "      <td>...</td>\n",
       "      <td>...</td>\n",
       "      <td>...</td>\n",
       "    </tr>\n",
       "    <tr>\n",
       "      <th>1472505</th>\n",
       "      <td>-40.0</td>\n",
       "      <td>43.0</td>\n",
       "      <td>16.0</td>\n",
       "      <td>1.026040</td>\n",
       "      <td>80.08</td>\n",
       "      <td>31.27</td>\n",
       "      <td>2.0</td>\n",
       "    </tr>\n",
       "    <tr>\n",
       "      <th>1472506</th>\n",
       "      <td>-38.0</td>\n",
       "      <td>44.0</td>\n",
       "      <td>16.0</td>\n",
       "      <td>1.026040</td>\n",
       "      <td>80.08</td>\n",
       "      <td>31.27</td>\n",
       "      <td>2.0</td>\n",
       "    </tr>\n",
       "    <tr>\n",
       "      <th>1472507</th>\n",
       "      <td>-38.0</td>\n",
       "      <td>45.0</td>\n",
       "      <td>12.0</td>\n",
       "      <td>1.026040</td>\n",
       "      <td>80.08</td>\n",
       "      <td>31.27</td>\n",
       "      <td>2.0</td>\n",
       "    </tr>\n",
       "    <tr>\n",
       "      <th>1472508</th>\n",
       "      <td>-41.0</td>\n",
       "      <td>47.0</td>\n",
       "      <td>11.0</td>\n",
       "      <td>1.026040</td>\n",
       "      <td>80.08</td>\n",
       "      <td>31.27</td>\n",
       "      <td>2.0</td>\n",
       "    </tr>\n",
       "    <tr>\n",
       "      <th>1472509</th>\n",
       "      <td>-42.0</td>\n",
       "      <td>50.0</td>\n",
       "      <td>12.0</td>\n",
       "      <td>1.035003</td>\n",
       "      <td>80.17</td>\n",
       "      <td>31.25</td>\n",
       "      <td>2.0</td>\n",
       "    </tr>\n",
       "  </tbody>\n",
       "</table>\n",
       "<p>1472510 rows × 7 columns</p>\n",
       "</div>"
      ],
      "text/plain": [
       "            X     Y     Z       EDA      HR   TEMP  label\n",
       "0       -10.0  59.0  13.0  4.184706  113.40  34.99    2.0\n",
       "1       -12.0  61.0  12.0  4.184706  113.40  34.99    2.0\n",
       "2       -11.0  62.0  13.0  4.184706  113.40  34.99    2.0\n",
       "3       -14.0  62.0  13.0  4.184706  113.40  34.99    2.0\n",
       "4       -16.0  61.0  13.0  4.184706  113.40  34.99    2.0\n",
       "...       ...   ...   ...       ...     ...    ...    ...\n",
       "1472505 -40.0  43.0  16.0  1.026040   80.08  31.27    2.0\n",
       "1472506 -38.0  44.0  16.0  1.026040   80.08  31.27    2.0\n",
       "1472507 -38.0  45.0  12.0  1.026040   80.08  31.27    2.0\n",
       "1472508 -41.0  47.0  11.0  1.026040   80.08  31.27    2.0\n",
       "1472509 -42.0  50.0  12.0  1.035003   80.17  31.25    2.0\n",
       "\n",
       "[1472510 rows x 7 columns]"
      ]
     },
     "execution_count": 147,
     "metadata": {},
     "output_type": "execute_result"
    }
   ],
   "source": [
    "nurse_E4.drop(columns = 'id',inplace = True)\n",
    "nurse_E4.drop(columns = 'datetime',inplace = True)\n",
    "nurse_E4"
   ]
  },
  {
   "cell_type": "code",
   "execution_count": 148,
   "id": "c2a1a841",
   "metadata": {},
   "outputs": [
    {
     "data": {
      "text/plain": [
       "0          2.0\n",
       "1          2.0\n",
       "2          2.0\n",
       "3          2.0\n",
       "4          2.0\n",
       "          ... \n",
       "1472505    2.0\n",
       "1472506    2.0\n",
       "1472507    2.0\n",
       "1472508    2.0\n",
       "1472509    2.0\n",
       "Name: label, Length: 1472510, dtype: float64"
      ]
     },
     "execution_count": 148,
     "metadata": {},
     "output_type": "execute_result"
    }
   ],
   "source": [
    "X_test_E4 = nurse_E4.drop(columns = 'label')\n",
    "y_test_E4 = nurse_E4.label\n",
    "y_test_E4"
   ]
  },
  {
   "cell_type": "code",
   "execution_count": 150,
   "id": "9a2c8d05",
   "metadata": {},
   "outputs": [
    {
     "name": "stdout",
     "output_type": "stream",
     "text": [
      "Accuracy: 85.35%\n"
     ]
    }
   ],
   "source": [
    "pred_E4 = model3.predict(X_test_E4)\n",
    "accuracy_E4 = accuracy_score(y_test_E4,pred_E4)\n",
    "print(\"Accuracy: {:.2f}%\".format(accuracy_E4 * 100))"
   ]
  },
  {
   "cell_type": "code",
   "execution_count": 151,
   "id": "be3b5012",
   "metadata": {},
   "outputs": [
    {
     "name": "stderr",
     "output_type": "stream",
     "text": [
      
     ]
    },
    {
     "name": "stdout",
     "output_type": "stream",
     "text": [
      "Accuracy: 81.49%\n"
     ]
    }
   ],
   "source": [
    "pred_E4_KNN = model2.predict(X_test_E4)\n",
    "\n",
    "accuracy_KNN_E4 = accuracy_score(y_test_E4, pred_E4_KNN)\n",
    "print(\"Accuracy: {:.2f}%\".format(accuracy_KNN_E4*100))"
   ]
  },
  {
   "cell_type": "code",
   "execution_count": 152,
   "id": "94eaa5df",
   "metadata": {},
   "outputs": [],
   "source": [
    "nurse_BG = pd.read_csv(\"C:/Users/Revati/OneDrive/Desktop/DSDM/Final_merged_file/merged_data_BG/label_BG_final.csv\")\n",
    "nurse_BG.drop(columns = 'id',inplace = True)\n",
    "nurse_BG.drop(columns = 'datetime',inplace = True)"
   ]
  },
  {
   "cell_type": "code",
   "execution_count": 153,
   "id": "c72a5494",
   "metadata": {},
   "outputs": [
    {
     "data": {
      "text/html": [
       "<div>\n",
       "<style scoped>\n",
       "    .dataframe tbody tr th:only-of-type {\n",
       "        vertical-align: middle;\n",
       "    }\n",
       "\n",
       "    .dataframe tbody tr th {\n",
       "        vertical-align: top;\n",
       "    }\n",
       "\n",
       "    .dataframe thead th {\n",
       "        text-align: right;\n",
       "    }\n",
       "</style>\n",
       "<table border=\"1\" class=\"dataframe\">\n",
       "  <thead>\n",
       "    <tr style=\"text-align: right;\">\n",
       "      <th></th>\n",
       "      <th>X</th>\n",
       "      <th>Y</th>\n",
       "      <th>Z</th>\n",
       "      <th>EDA</th>\n",
       "      <th>HR</th>\n",
       "      <th>TEMP</th>\n",
       "      <th>label</th>\n",
       "    </tr>\n",
       "  </thead>\n",
       "  <tbody>\n",
       "    <tr>\n",
       "      <th>0</th>\n",
       "      <td>12.0</td>\n",
       "      <td>56.0</td>\n",
       "      <td>28.0</td>\n",
       "      <td>0.179642</td>\n",
       "      <td>88.97</td>\n",
       "      <td>32.16</td>\n",
       "      <td>2.0</td>\n",
       "    </tr>\n",
       "    <tr>\n",
       "      <th>1</th>\n",
       "      <td>12.0</td>\n",
       "      <td>55.0</td>\n",
       "      <td>28.0</td>\n",
       "      <td>0.179642</td>\n",
       "      <td>88.97</td>\n",
       "      <td>32.16</td>\n",
       "      <td>2.0</td>\n",
       "    </tr>\n",
       "    <tr>\n",
       "      <th>2</th>\n",
       "      <td>11.0</td>\n",
       "      <td>56.0</td>\n",
       "      <td>28.0</td>\n",
       "      <td>0.179642</td>\n",
       "      <td>88.97</td>\n",
       "      <td>32.16</td>\n",
       "      <td>2.0</td>\n",
       "    </tr>\n",
       "    <tr>\n",
       "      <th>3</th>\n",
       "      <td>12.0</td>\n",
       "      <td>56.0</td>\n",
       "      <td>28.0</td>\n",
       "      <td>0.179642</td>\n",
       "      <td>88.97</td>\n",
       "      <td>32.16</td>\n",
       "      <td>2.0</td>\n",
       "    </tr>\n",
       "    <tr>\n",
       "      <th>4</th>\n",
       "      <td>12.0</td>\n",
       "      <td>55.0</td>\n",
       "      <td>28.0</td>\n",
       "      <td>0.179642</td>\n",
       "      <td>88.97</td>\n",
       "      <td>32.16</td>\n",
       "      <td>2.0</td>\n",
       "    </tr>\n",
       "    <tr>\n",
       "      <th>...</th>\n",
       "      <td>...</td>\n",
       "      <td>...</td>\n",
       "      <td>...</td>\n",
       "      <td>...</td>\n",
       "      <td>...</td>\n",
       "      <td>...</td>\n",
       "      <td>...</td>\n",
       "    </tr>\n",
       "    <tr>\n",
       "      <th>608650</th>\n",
       "      <td>-33.0</td>\n",
       "      <td>-8.0</td>\n",
       "      <td>54.0</td>\n",
       "      <td>0.275387</td>\n",
       "      <td>99.93</td>\n",
       "      <td>32.45</td>\n",
       "      <td>2.0</td>\n",
       "    </tr>\n",
       "    <tr>\n",
       "      <th>608651</th>\n",
       "      <td>-33.0</td>\n",
       "      <td>-8.0</td>\n",
       "      <td>55.0</td>\n",
       "      <td>0.275387</td>\n",
       "      <td>99.93</td>\n",
       "      <td>32.45</td>\n",
       "      <td>2.0</td>\n",
       "    </tr>\n",
       "    <tr>\n",
       "      <th>608652</th>\n",
       "      <td>-33.0</td>\n",
       "      <td>-7.0</td>\n",
       "      <td>55.0</td>\n",
       "      <td>0.275387</td>\n",
       "      <td>99.93</td>\n",
       "      <td>32.45</td>\n",
       "      <td>2.0</td>\n",
       "    </tr>\n",
       "    <tr>\n",
       "      <th>608653</th>\n",
       "      <td>-34.0</td>\n",
       "      <td>-7.0</td>\n",
       "      <td>55.0</td>\n",
       "      <td>0.275387</td>\n",
       "      <td>99.93</td>\n",
       "      <td>32.45</td>\n",
       "      <td>2.0</td>\n",
       "    </tr>\n",
       "    <tr>\n",
       "      <th>608654</th>\n",
       "      <td>-33.0</td>\n",
       "      <td>-8.0</td>\n",
       "      <td>55.0</td>\n",
       "      <td>0.275387</td>\n",
       "      <td>99.88</td>\n",
       "      <td>32.43</td>\n",
       "      <td>2.0</td>\n",
       "    </tr>\n",
       "  </tbody>\n",
       "</table>\n",
       "<p>608655 rows × 7 columns</p>\n",
       "</div>"
      ],
      "text/plain": [
       "           X     Y     Z       EDA     HR   TEMP  label\n",
       "0       12.0  56.0  28.0  0.179642  88.97  32.16    2.0\n",
       "1       12.0  55.0  28.0  0.179642  88.97  32.16    2.0\n",
       "2       11.0  56.0  28.0  0.179642  88.97  32.16    2.0\n",
       "3       12.0  56.0  28.0  0.179642  88.97  32.16    2.0\n",
       "4       12.0  55.0  28.0  0.179642  88.97  32.16    2.0\n",
       "...      ...   ...   ...       ...    ...    ...    ...\n",
       "608650 -33.0  -8.0  54.0  0.275387  99.93  32.45    2.0\n",
       "608651 -33.0  -8.0  55.0  0.275387  99.93  32.45    2.0\n",
       "608652 -33.0  -7.0  55.0  0.275387  99.93  32.45    2.0\n",
       "608653 -34.0  -7.0  55.0  0.275387  99.93  32.45    2.0\n",
       "608654 -33.0  -8.0  55.0  0.275387  99.88  32.43    2.0\n",
       "\n",
       "[608655 rows x 7 columns]"
      ]
     },
     "execution_count": 153,
     "metadata": {},
     "output_type": "execute_result"
    }
   ],
   "source": [
    "nurse_BG"
   ]
  },
  {
   "cell_type": "code",
   "execution_count": 154,
   "id": "546e72e0",
   "metadata": {},
   "outputs": [],
   "source": [
    "X_test_BG = nurse_BG.drop(columns = 'label')\n",
    "y_test_BG = nurse_BG.label"
   ]
  },
  {
   "cell_type": "code",
   "execution_count": 155,
   "id": "e87143c0",
   "metadata": {},
   "outputs": [
    {
     "name": "stdout",
     "output_type": "stream",
     "text": [
      "<class 'pandas.core.frame.DataFrame'>\n",
      "RangeIndex: 608655 entries, 0 to 608654\n",
      "Data columns (total 7 columns):\n",
      " #   Column  Non-Null Count   Dtype  \n",
      "---  ------  --------------   -----  \n",
      " 0   X       608655 non-null  float64\n",
      " 1   Y       608655 non-null  float64\n",
      " 2   Z       608655 non-null  float64\n",
      " 3   EDA     608655 non-null  float64\n",
      " 4   HR      608655 non-null  float64\n",
      " 5   TEMP    608655 non-null  float64\n",
      " 6   label   608655 non-null  float64\n",
      "dtypes: float64(7)\n",
      "memory usage: 32.5 MB\n"
     ]
    }
   ],
   "source": [
    "nurse_BG.info()"
   ]
  },
  {
   "cell_type": "code",
   "execution_count": 156,
   "id": "70e6ef60",
   "metadata": {},
   "outputs": [
    {
     "data": {
      "text/plain": [
       "X        0\n",
       "Y        0\n",
       "Z        0\n",
       "EDA      0\n",
       "HR       0\n",
       "TEMP     0\n",
       "label    0\n",
       "dtype: int64"
      ]
     },
     "execution_count": 156,
     "metadata": {},
     "output_type": "execute_result"
    }
   ],
   "source": [
    "nurse_BG.isna().sum()"
   ]
  },
  {
   "cell_type": "code",
   "execution_count": 157,
   "id": "bd8d0117",
   "metadata": {
    "scrolled": true
   },
   "outputs": [
    {
     "name": "stdout",
     "output_type": "stream",
     "text": [
      "Accuracy: 93.30%\n"
     ]
    }
   ],
   "source": [
    "pred_BG = model3.predict(X_test_BG)\n",
    "accuracy_BG = accuracy_score(y_test_BG,pred_BG)\n",
    "print(\"Accuracy: {:.2f}%\".format(accuracy_BG*100))"
   ]
  },
  {
   "cell_type": "code",
   "execution_count": null,
   "id": "f4470153",
   "metadata": {},
   "outputs": [],
   "source": [
    "pred_BG_KNN = model2.predict(X_test_BG)\n",
    "\n",
    "accuracy_KNN_BG = accuracy_score(y_test_BG, pred_BG_KNN)\n",
    "print(\"Accuracy: {:.2f}%\".format(accuracy_KNN_BG*100))"
   ]
  },
  {
   "cell_type": "markdown",
   "id": "28839d35",
   "metadata": {},
   "source": [
    "### Cross validating with DF nurse dataset which contains null values "
   ]
  },
  {
   "cell_type": "code",
   "execution_count": 159,
   "id": "0aede01a",
   "metadata": {},
   "outputs": [],
   "source": [
    "nurse_DF = pd.read_csv(\"C:/Users/Revati/OneDrive/Desktop/DSDM/Final_merged_file/merged_data_DF/label_DF_final.csv\")\n",
    "nurse_DF.drop(columns='id', inplace=True)\n",
    "nurse_DF.drop(columns='datetime', inplace=True)"
   ]
  },
  {
   "cell_type": "code",
   "execution_count": 160,
   "id": "5ff316b6",
   "metadata": {},
   "outputs": [
    {
     "data": {
      "text/plain": [
       "X              0\n",
       "Y              0\n",
       "Z              0\n",
       "EDA            0\n",
       "HR             0\n",
       "TEMP           0\n",
       "label    1089003\n",
       "dtype: int64"
      ]
     },
     "execution_count": 160,
     "metadata": {},
     "output_type": "execute_result"
    }
   ],
   "source": [
    "nurse_DF.isnull().sum()"
   ]
  },
  {
   "cell_type": "code",
   "execution_count": 161,
   "id": "4d0efdfb",
   "metadata": {},
   "outputs": [],
   "source": [
    "test_data = nurse_DF[nurse_DF['label'].isna()]\n",
    "fill_one = test_data.fillna(1)\n",
    "fill_zero = test_data.fillna(0)"
   ]
  },
  {
   "cell_type": "code",
   "execution_count": 162,
   "id": "3a1e084f",
   "metadata": {},
   "outputs": [],
   "source": [
    "X_test_DF = test_data.drop(columns = 'label')\n",
    "y_test_DF_one = fill_one.label\n",
    "y_test_DF_zero = fill_zero.label"
   ]
  },
  {
   "cell_type": "code",
   "execution_count": 163,
   "id": "bdc45c6e",
   "metadata": {},
   "outputs": [
    {
     "name": "stdout",
     "output_type": "stream",
     "text": [
      "Accuracy: 0.0\n"
     ]
    }
   ],
   "source": [
    "pred_DF = model3.predict(X_test_DF)\n",
    "accuracy_DF = accuracy_score(y_test_DF_one,pred_DF)\n",
    "print(\"Accuracy: {:.2f}%\".format(accuracy_DF*100))"
   ]
  },
  {
   "cell_type": "code",
   "execution_count": 164,
   "id": "9b83ff2e",
   "metadata": {},
   "outputs": [
    {
     "name": "stdout",
     "output_type": "stream",
     "text": [
      "Accuracy: 81.25%\n"
     ]
    }
   ],
   "source": [
    "pred_DF = model3.predict(X_test_DF)\n",
    "accuracy_DF = accuracy_score(y_test_DF_zero,pred_DF)\n",
    "print(\"Accuracy: {:.2f}%\".format(accuracy_DF*100))"
   ]
  },
  {
   "cell_type": "markdown",
   "id": "04c2b871",
   "metadata": {},
   "source": [
    "## Feature selection "
   ]
  },
  {
   "cell_type": "markdown",
   "id": "4ff10aba",
   "metadata": {},
   "source": [
    "Selecting features from model1 which is giving me accuracy "
   ]
  },
  {
   "cell_type": "code",
   "execution_count": 118,
   "id": "c7f403ff",
   "metadata": {},
   "outputs": [
    {
     "data": {
      "text/html": [
       "<div>\n",
       "<style scoped>\n",
       "    .dataframe tbody tr th:only-of-type {\n",
       "        vertical-align: middle;\n",
       "    }\n",
       "\n",
       "    .dataframe tbody tr th {\n",
       "        vertical-align: top;\n",
       "    }\n",
       "\n",
       "    .dataframe thead th {\n",
       "        text-align: right;\n",
       "    }\n",
       "</style>\n",
       "<table border=\"1\" class=\"dataframe\">\n",
       "  <thead>\n",
       "    <tr style=\"text-align: right;\">\n",
       "      <th></th>\n",
       "      <th>feature</th>\n",
       "      <th>importance</th>\n",
       "    </tr>\n",
       "  </thead>\n",
       "  <tbody>\n",
       "    <tr>\n",
       "      <th>3</th>\n",
       "      <td>EDA</td>\n",
       "      <td>0.412582</td>\n",
       "    </tr>\n",
       "    <tr>\n",
       "      <th>5</th>\n",
       "      <td>TEMP</td>\n",
       "      <td>0.371536</td>\n",
       "    </tr>\n",
       "    <tr>\n",
       "      <th>4</th>\n",
       "      <td>HR</td>\n",
       "      <td>0.066120</td>\n",
       "    </tr>\n",
       "    <tr>\n",
       "      <th>2</th>\n",
       "      <td>Z</td>\n",
       "      <td>0.061427</td>\n",
       "    </tr>\n",
       "    <tr>\n",
       "      <th>1</th>\n",
       "      <td>Y</td>\n",
       "      <td>0.047232</td>\n",
       "    </tr>\n",
       "    <tr>\n",
       "      <th>0</th>\n",
       "      <td>X</td>\n",
       "      <td>0.041103</td>\n",
       "    </tr>\n",
       "  </tbody>\n",
       "</table>\n",
       "</div>"
      ],
      "text/plain": [
       "  feature  importance\n",
       "3     EDA    0.412582\n",
       "5    TEMP    0.371536\n",
       "4      HR    0.066120\n",
       "2       Z    0.061427\n",
       "1       Y    0.047232\n",
       "0       X    0.041103"
      ]
     },
     "execution_count": 118,
     "metadata": {},
     "output_type": "execute_result"
    }
   ],
   "source": [
    "importance_df = pd.DataFrame({\n",
    "    'feature': nurse_train_set.columns,\n",
    "    'importance': model1.feature_importances_\n",
    "}).sort_values('importance', ascending=False)\n",
    "\n",
    "importance_df.head(20)"
   ]
  },
  {
   "cell_type": "code",
   "execution_count": 119,
   "id": "3db013bf",
   "metadata": {},
   "outputs": [
    {
     "data": {
      "image/png": "[encoded data removed]",
      "text/plain": [
       "<Figure size 1000x600 with 1 Axes>"
      ]
     },
     "metadata": {},
     "output_type": "display_data"
    }
   ],
   "source": [
    "import seaborn as sns\n",
    "plt.figure(figsize=(10,6))\n",
    "plt.title('Feature Importance')\n",
    "sns.barplot(data=importance_df.head(20), x = 'importance', y = 'feature');"
   ]
  },
  {
   "cell_type": "markdown",
   "id": "3a99e775",
   "metadata": {},
   "source": [
    "### Based on top two features Box Plot "
   ]
  },
  {
   "cell_type": "code",
   "execution_count": 108,
   "id": "e0e4d88f",
   "metadata": {},
   "outputs": [
    {
     "data": {
      "image/png": "[encoded data removed]",
      "text/plain": [
       "<Figure size 1200x600 with 2 Axes>"
      ]
     },
     "metadata": {},
     "output_type": "display_data"
    }
   ],
   "source": [
    "fig, (ax1, ax2) = plt.subplots(ncols=2, figsize=(12,6))\n",
    "sns.boxplot(x='label', y='TEMP', data=nurse_train, ax=ax1)\n",
    "ax1.set_title('TEMP by stress level')\n",
    "sns.boxplot(x='label', y='EDA', data=nurse_train, ax=ax2)\n",
    "ax2.set_title('EDA by stress level')\n",
    "plt.show()"
   ]
  }
 ],
 "metadata": {
  "kernelspec": {
   "display_name": "Python 3 (ipykernel)",
   "language": "python",
   "name": "python3"
  },
  "language_info": {
   "codemirror_mode": {
    "name": "ipython",
    "version": 3
   },
   "file_extension": ".py",
   "mimetype": "text/x-python",
   "name": "python",
   "nbconvert_exporter": "python",
   "pygments_lexer": "ipython3",
   "version": "3.9.13"
  }
 },
 "nbformat": 4,
 "nbformat_minor": 5
}
